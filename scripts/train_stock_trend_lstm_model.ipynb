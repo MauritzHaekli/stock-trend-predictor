{
 "cells": [
  {
   "cell_type": "code",
   "execution_count": 1,
   "metadata": {
    "collapsed": true
   },
   "outputs": [
    {
     "name": "stdout",
     "output_type": "stream",
     "text": [
      "Training Dataset shape: (5000, 19)\n",
      "Dataset as time series batches: (4970, 20, 14) (4970,)\n",
      "Training sets shape: (3976, 20, 14) (3976,)\n",
      "Validation sets shape: (994, 20, 14) (994,)\n"
     ]
    }
   ],
   "source": [
    "import yaml\n",
    "import pandas as pd\n",
    "from utils.data_preprocessor import DataPreprocessor\n",
    "\n",
    "with open('../config.yaml', 'r') as config_file:\n",
    "    config = yaml.safe_load(config_file)\n",
    "\n",
    "training_file_path: str = \"../data/indicators/NIO_indicators.csv\"\n",
    "training_df = pd.read_csv(training_file_path)\n",
    "\n",
    "training_preprocessor = DataPreprocessor(training_df)\n",
    "\n",
    "X = training_preprocessor.X_batched\n",
    "y = training_preprocessor.y_batched\n",
    "\n",
    "X_train = training_preprocessor.X_train_scaled\n",
    "y_train = training_preprocessor.y_train_split\n",
    "X_val = training_preprocessor.X_validation_scaled\n",
    "y_val = training_preprocessor.y_validation_split\n",
    "\n",
    "print(\"Training Dataset shape:\", training_df.shape)\n",
    "print(\"Dataset as time series batches:\",X.shape, y.shape)\n",
    "print(\"Training sets shape:\", X_train.shape, y_train.shape)\n",
    "print(\"Validation sets shape:\", X_val.shape, y_val.shape)\n"
   ]
  },
  {
   "cell_type": "code",
   "execution_count": 2,
   "outputs": [
    {
     "data": {
      "text/plain": "                 datetime  open  high   low  close   volume  previous open  \\\n0     2023-09-22 12:10:00  8.55  8.56  8.54   8.56   188331           0.00   \n1     2023-09-22 12:15:00  8.56  8.56  8.55   8.56   135791           0.00   \n2     2023-09-22 12:20:00  8.56  8.56  8.55   8.56   127977           0.00   \n3     2023-09-22 12:25:00  8.56  8.56  8.54   8.54   282509           0.00   \n4     2023-09-22 12:30:00  8.55  8.56  8.54   8.55   247944           0.00   \n...                   ...   ...   ...   ...    ...      ...            ...   \n4995  2023-12-22 15:35:00  8.44  8.46  8.44   8.44   437167           8.43   \n4996  2023-12-22 15:40:00  8.45  8.46  8.42   8.45   658983           8.43   \n4997  2023-12-22 15:45:00  8.45  8.46  8.44   8.44   418710           8.44   \n4998  2023-12-22 15:50:00  8.44  8.45  8.42   8.42   857201           8.46   \n4999  2023-12-22 15:55:00  8.42  8.44  8.40   8.43  2142859           8.47   \n\n      open-change  open-trend  previous volume  volume-change  volume-trend  \\\n0            0.00           1              0.0            0.0             1   \n1            0.00           1              0.0            0.0             1   \n2            0.00           1              0.0            0.0             1   \n3            0.00           1              0.0            0.0             1   \n4            0.00           1              0.0            0.0             1   \n...           ...         ...              ...            ...           ...   \n4995         0.01           1         488291.0       -51124.0             0   \n4996         0.02           1         197584.0       461399.0             1   \n4997         0.01           1         280545.0       138165.0             1   \n4998        -0.02           0         475768.0       381433.0             1   \n4999        -0.05           0         539054.0      1603805.0             1   \n\n      percent_b  macd  macd_signal  macd_hist    adx   ema    rsi  \n0          0.28 -0.01        -0.00       -0.0  11.24  8.56  45.59  \n1          0.33 -0.01        -0.00       -0.0  11.27  8.56  46.64  \n2          0.36 -0.01        -0.00       -0.0  11.30  8.56  47.03  \n3          0.14 -0.01        -0.00       -0.0  11.72  8.56  41.98  \n4          0.26 -0.01        -0.00       -0.0  12.11  8.56  45.15  \n...         ...   ...          ...        ...    ...   ...    ...  \n4995       0.35 -0.02        -0.02        0.0  37.77  8.46  38.28  \n4996       0.51 -0.01        -0.02        0.0  38.67  8.46  43.78  \n4997       0.42 -0.01        -0.02        0.0  39.50  8.45  41.15  \n4998       0.19 -0.02        -0.02       -0.0  40.78  8.45  35.41  \n4999       0.32 -0.02        -0.02       -0.0  42.27  8.44  39.07  \n\n[5000 rows x 19 columns]",
      "text/html": "<div>\n<style scoped>\n    .dataframe tbody tr th:only-of-type {\n        vertical-align: middle;\n    }\n\n    .dataframe tbody tr th {\n        vertical-align: top;\n    }\n\n    .dataframe thead th {\n        text-align: right;\n    }\n</style>\n<table border=\"1\" class=\"dataframe\">\n  <thead>\n    <tr style=\"text-align: right;\">\n      <th></th>\n      <th>datetime</th>\n      <th>open</th>\n      <th>high</th>\n      <th>low</th>\n      <th>close</th>\n      <th>volume</th>\n      <th>previous open</th>\n      <th>open-change</th>\n      <th>open-trend</th>\n      <th>previous volume</th>\n      <th>volume-change</th>\n      <th>volume-trend</th>\n      <th>percent_b</th>\n      <th>macd</th>\n      <th>macd_signal</th>\n      <th>macd_hist</th>\n      <th>adx</th>\n      <th>ema</th>\n      <th>rsi</th>\n    </tr>\n  </thead>\n  <tbody>\n    <tr>\n      <th>0</th>\n      <td>2023-09-22 12:10:00</td>\n      <td>8.55</td>\n      <td>8.56</td>\n      <td>8.54</td>\n      <td>8.56</td>\n      <td>188331</td>\n      <td>0.00</td>\n      <td>0.00</td>\n      <td>1</td>\n      <td>0.0</td>\n      <td>0.0</td>\n      <td>1</td>\n      <td>0.28</td>\n      <td>-0.01</td>\n      <td>-0.00</td>\n      <td>-0.0</td>\n      <td>11.24</td>\n      <td>8.56</td>\n      <td>45.59</td>\n    </tr>\n    <tr>\n      <th>1</th>\n      <td>2023-09-22 12:15:00</td>\n      <td>8.56</td>\n      <td>8.56</td>\n      <td>8.55</td>\n      <td>8.56</td>\n      <td>135791</td>\n      <td>0.00</td>\n      <td>0.00</td>\n      <td>1</td>\n      <td>0.0</td>\n      <td>0.0</td>\n      <td>1</td>\n      <td>0.33</td>\n      <td>-0.01</td>\n      <td>-0.00</td>\n      <td>-0.0</td>\n      <td>11.27</td>\n      <td>8.56</td>\n      <td>46.64</td>\n    </tr>\n    <tr>\n      <th>2</th>\n      <td>2023-09-22 12:20:00</td>\n      <td>8.56</td>\n      <td>8.56</td>\n      <td>8.55</td>\n      <td>8.56</td>\n      <td>127977</td>\n      <td>0.00</td>\n      <td>0.00</td>\n      <td>1</td>\n      <td>0.0</td>\n      <td>0.0</td>\n      <td>1</td>\n      <td>0.36</td>\n      <td>-0.01</td>\n      <td>-0.00</td>\n      <td>-0.0</td>\n      <td>11.30</td>\n      <td>8.56</td>\n      <td>47.03</td>\n    </tr>\n    <tr>\n      <th>3</th>\n      <td>2023-09-22 12:25:00</td>\n      <td>8.56</td>\n      <td>8.56</td>\n      <td>8.54</td>\n      <td>8.54</td>\n      <td>282509</td>\n      <td>0.00</td>\n      <td>0.00</td>\n      <td>1</td>\n      <td>0.0</td>\n      <td>0.0</td>\n      <td>1</td>\n      <td>0.14</td>\n      <td>-0.01</td>\n      <td>-0.00</td>\n      <td>-0.0</td>\n      <td>11.72</td>\n      <td>8.56</td>\n      <td>41.98</td>\n    </tr>\n    <tr>\n      <th>4</th>\n      <td>2023-09-22 12:30:00</td>\n      <td>8.55</td>\n      <td>8.56</td>\n      <td>8.54</td>\n      <td>8.55</td>\n      <td>247944</td>\n      <td>0.00</td>\n      <td>0.00</td>\n      <td>1</td>\n      <td>0.0</td>\n      <td>0.0</td>\n      <td>1</td>\n      <td>0.26</td>\n      <td>-0.01</td>\n      <td>-0.00</td>\n      <td>-0.0</td>\n      <td>12.11</td>\n      <td>8.56</td>\n      <td>45.15</td>\n    </tr>\n    <tr>\n      <th>...</th>\n      <td>...</td>\n      <td>...</td>\n      <td>...</td>\n      <td>...</td>\n      <td>...</td>\n      <td>...</td>\n      <td>...</td>\n      <td>...</td>\n      <td>...</td>\n      <td>...</td>\n      <td>...</td>\n      <td>...</td>\n      <td>...</td>\n      <td>...</td>\n      <td>...</td>\n      <td>...</td>\n      <td>...</td>\n      <td>...</td>\n      <td>...</td>\n    </tr>\n    <tr>\n      <th>4995</th>\n      <td>2023-12-22 15:35:00</td>\n      <td>8.44</td>\n      <td>8.46</td>\n      <td>8.44</td>\n      <td>8.44</td>\n      <td>437167</td>\n      <td>8.43</td>\n      <td>0.01</td>\n      <td>1</td>\n      <td>488291.0</td>\n      <td>-51124.0</td>\n      <td>0</td>\n      <td>0.35</td>\n      <td>-0.02</td>\n      <td>-0.02</td>\n      <td>0.0</td>\n      <td>37.77</td>\n      <td>8.46</td>\n      <td>38.28</td>\n    </tr>\n    <tr>\n      <th>4996</th>\n      <td>2023-12-22 15:40:00</td>\n      <td>8.45</td>\n      <td>8.46</td>\n      <td>8.42</td>\n      <td>8.45</td>\n      <td>658983</td>\n      <td>8.43</td>\n      <td>0.02</td>\n      <td>1</td>\n      <td>197584.0</td>\n      <td>461399.0</td>\n      <td>1</td>\n      <td>0.51</td>\n      <td>-0.01</td>\n      <td>-0.02</td>\n      <td>0.0</td>\n      <td>38.67</td>\n      <td>8.46</td>\n      <td>43.78</td>\n    </tr>\n    <tr>\n      <th>4997</th>\n      <td>2023-12-22 15:45:00</td>\n      <td>8.45</td>\n      <td>8.46</td>\n      <td>8.44</td>\n      <td>8.44</td>\n      <td>418710</td>\n      <td>8.44</td>\n      <td>0.01</td>\n      <td>1</td>\n      <td>280545.0</td>\n      <td>138165.0</td>\n      <td>1</td>\n      <td>0.42</td>\n      <td>-0.01</td>\n      <td>-0.02</td>\n      <td>0.0</td>\n      <td>39.50</td>\n      <td>8.45</td>\n      <td>41.15</td>\n    </tr>\n    <tr>\n      <th>4998</th>\n      <td>2023-12-22 15:50:00</td>\n      <td>8.44</td>\n      <td>8.45</td>\n      <td>8.42</td>\n      <td>8.42</td>\n      <td>857201</td>\n      <td>8.46</td>\n      <td>-0.02</td>\n      <td>0</td>\n      <td>475768.0</td>\n      <td>381433.0</td>\n      <td>1</td>\n      <td>0.19</td>\n      <td>-0.02</td>\n      <td>-0.02</td>\n      <td>-0.0</td>\n      <td>40.78</td>\n      <td>8.45</td>\n      <td>35.41</td>\n    </tr>\n    <tr>\n      <th>4999</th>\n      <td>2023-12-22 15:55:00</td>\n      <td>8.42</td>\n      <td>8.44</td>\n      <td>8.40</td>\n      <td>8.43</td>\n      <td>2142859</td>\n      <td>8.47</td>\n      <td>-0.05</td>\n      <td>0</td>\n      <td>539054.0</td>\n      <td>1603805.0</td>\n      <td>1</td>\n      <td>0.32</td>\n      <td>-0.02</td>\n      <td>-0.02</td>\n      <td>-0.0</td>\n      <td>42.27</td>\n      <td>8.44</td>\n      <td>39.07</td>\n    </tr>\n  </tbody>\n</table>\n<p>5000 rows × 19 columns</p>\n</div>"
     },
     "execution_count": 2,
     "metadata": {},
     "output_type": "execute_result"
    }
   ],
   "source": [
    "training_preprocessor.trend_data\n"
   ],
   "metadata": {
    "collapsed": false
   }
  },
  {
   "cell_type": "code",
   "execution_count": 3,
   "outputs": [
    {
     "data": {
      "text/plain": "                      volume  open-trend  previous volume  volume-change  \\\ndatetime                                                                   \n2023-09-22 13:00:00   117715           0         188331.0       -70616.0   \n2023-09-22 13:05:00   291431           0         135791.0       155640.0   \n2023-09-22 13:10:00   230055           0         127977.0       102078.0   \n2023-09-22 13:15:00   428261           0         282509.0       145752.0   \n2023-09-22 13:20:00   182017           0         247944.0       -65927.0   \n...                      ...         ...              ...            ...   \n2023-12-22 15:35:00   437167           1         488291.0       -51124.0   \n2023-12-22 15:40:00   658983           1         197584.0       461399.0   \n2023-12-22 15:45:00   418710           1         280545.0       138165.0   \n2023-12-22 15:50:00   857201           0         475768.0       381433.0   \n2023-12-22 15:55:00  2142859           0         539054.0      1603805.0   \n\n                     volume-trend  percent_b  macd  macd_signal  macd_hist  \\\ndatetime                                                                     \n2023-09-22 13:00:00             0       0.15 -0.01        -0.01       -0.0   \n2023-09-22 13:05:00             1      -0.11 -0.01        -0.01       -0.0   \n2023-09-22 13:10:00             1       0.09 -0.01        -0.01       -0.0   \n2023-09-22 13:15:00             1      -0.02 -0.01        -0.01       -0.0   \n2023-09-22 13:20:00             0      -0.07 -0.01        -0.01       -0.0   \n...                           ...        ...   ...          ...        ...   \n2023-12-22 15:35:00             0       0.35 -0.02        -0.02        0.0   \n2023-12-22 15:40:00             1       0.51 -0.01        -0.02        0.0   \n2023-12-22 15:45:00             1       0.42 -0.01        -0.02        0.0   \n2023-12-22 15:50:00             1       0.19 -0.02        -0.02       -0.0   \n2023-12-22 15:55:00             1       0.32 -0.02        -0.02       -0.0   \n\n                       adx    rsi  day_of_week  hour  target  \ndatetime                                                      \n2023-09-22 13:00:00  15.73  42.89            4    13       0  \n2023-09-22 13:05:00  15.38  38.02            4    13       0  \n2023-09-22 13:10:00  15.60  40.92            4    13       0  \n2023-09-22 13:15:00  16.29  38.06            4    13       0  \n2023-09-22 13:20:00  16.93  35.39            4    13       0  \n...                    ...    ...          ...   ...     ...  \n2023-12-22 15:35:00  37.77  38.28            4    15       0  \n2023-12-22 15:40:00  38.67  43.78            4    15       0  \n2023-12-22 15:45:00  39.50  41.15            4    15       0  \n2023-12-22 15:50:00  40.78  35.41            4    15       0  \n2023-12-22 15:55:00  42.27  39.07            4    15       0  \n\n[4990 rows x 14 columns]",
      "text/html": "<div>\n<style scoped>\n    .dataframe tbody tr th:only-of-type {\n        vertical-align: middle;\n    }\n\n    .dataframe tbody tr th {\n        vertical-align: top;\n    }\n\n    .dataframe thead th {\n        text-align: right;\n    }\n</style>\n<table border=\"1\" class=\"dataframe\">\n  <thead>\n    <tr style=\"text-align: right;\">\n      <th></th>\n      <th>volume</th>\n      <th>open-trend</th>\n      <th>previous volume</th>\n      <th>volume-change</th>\n      <th>volume-trend</th>\n      <th>percent_b</th>\n      <th>macd</th>\n      <th>macd_signal</th>\n      <th>macd_hist</th>\n      <th>adx</th>\n      <th>rsi</th>\n      <th>day_of_week</th>\n      <th>hour</th>\n      <th>target</th>\n    </tr>\n    <tr>\n      <th>datetime</th>\n      <th></th>\n      <th></th>\n      <th></th>\n      <th></th>\n      <th></th>\n      <th></th>\n      <th></th>\n      <th></th>\n      <th></th>\n      <th></th>\n      <th></th>\n      <th></th>\n      <th></th>\n      <th></th>\n    </tr>\n  </thead>\n  <tbody>\n    <tr>\n      <th>2023-09-22 13:00:00</th>\n      <td>117715</td>\n      <td>0</td>\n      <td>188331.0</td>\n      <td>-70616.0</td>\n      <td>0</td>\n      <td>0.15</td>\n      <td>-0.01</td>\n      <td>-0.01</td>\n      <td>-0.0</td>\n      <td>15.73</td>\n      <td>42.89</td>\n      <td>4</td>\n      <td>13</td>\n      <td>0</td>\n    </tr>\n    <tr>\n      <th>2023-09-22 13:05:00</th>\n      <td>291431</td>\n      <td>0</td>\n      <td>135791.0</td>\n      <td>155640.0</td>\n      <td>1</td>\n      <td>-0.11</td>\n      <td>-0.01</td>\n      <td>-0.01</td>\n      <td>-0.0</td>\n      <td>15.38</td>\n      <td>38.02</td>\n      <td>4</td>\n      <td>13</td>\n      <td>0</td>\n    </tr>\n    <tr>\n      <th>2023-09-22 13:10:00</th>\n      <td>230055</td>\n      <td>0</td>\n      <td>127977.0</td>\n      <td>102078.0</td>\n      <td>1</td>\n      <td>0.09</td>\n      <td>-0.01</td>\n      <td>-0.01</td>\n      <td>-0.0</td>\n      <td>15.60</td>\n      <td>40.92</td>\n      <td>4</td>\n      <td>13</td>\n      <td>0</td>\n    </tr>\n    <tr>\n      <th>2023-09-22 13:15:00</th>\n      <td>428261</td>\n      <td>0</td>\n      <td>282509.0</td>\n      <td>145752.0</td>\n      <td>1</td>\n      <td>-0.02</td>\n      <td>-0.01</td>\n      <td>-0.01</td>\n      <td>-0.0</td>\n      <td>16.29</td>\n      <td>38.06</td>\n      <td>4</td>\n      <td>13</td>\n      <td>0</td>\n    </tr>\n    <tr>\n      <th>2023-09-22 13:20:00</th>\n      <td>182017</td>\n      <td>0</td>\n      <td>247944.0</td>\n      <td>-65927.0</td>\n      <td>0</td>\n      <td>-0.07</td>\n      <td>-0.01</td>\n      <td>-0.01</td>\n      <td>-0.0</td>\n      <td>16.93</td>\n      <td>35.39</td>\n      <td>4</td>\n      <td>13</td>\n      <td>0</td>\n    </tr>\n    <tr>\n      <th>...</th>\n      <td>...</td>\n      <td>...</td>\n      <td>...</td>\n      <td>...</td>\n      <td>...</td>\n      <td>...</td>\n      <td>...</td>\n      <td>...</td>\n      <td>...</td>\n      <td>...</td>\n      <td>...</td>\n      <td>...</td>\n      <td>...</td>\n      <td>...</td>\n    </tr>\n    <tr>\n      <th>2023-12-22 15:35:00</th>\n      <td>437167</td>\n      <td>1</td>\n      <td>488291.0</td>\n      <td>-51124.0</td>\n      <td>0</td>\n      <td>0.35</td>\n      <td>-0.02</td>\n      <td>-0.02</td>\n      <td>0.0</td>\n      <td>37.77</td>\n      <td>38.28</td>\n      <td>4</td>\n      <td>15</td>\n      <td>0</td>\n    </tr>\n    <tr>\n      <th>2023-12-22 15:40:00</th>\n      <td>658983</td>\n      <td>1</td>\n      <td>197584.0</td>\n      <td>461399.0</td>\n      <td>1</td>\n      <td>0.51</td>\n      <td>-0.01</td>\n      <td>-0.02</td>\n      <td>0.0</td>\n      <td>38.67</td>\n      <td>43.78</td>\n      <td>4</td>\n      <td>15</td>\n      <td>0</td>\n    </tr>\n    <tr>\n      <th>2023-12-22 15:45:00</th>\n      <td>418710</td>\n      <td>1</td>\n      <td>280545.0</td>\n      <td>138165.0</td>\n      <td>1</td>\n      <td>0.42</td>\n      <td>-0.01</td>\n      <td>-0.02</td>\n      <td>0.0</td>\n      <td>39.50</td>\n      <td>41.15</td>\n      <td>4</td>\n      <td>15</td>\n      <td>0</td>\n    </tr>\n    <tr>\n      <th>2023-12-22 15:50:00</th>\n      <td>857201</td>\n      <td>0</td>\n      <td>475768.0</td>\n      <td>381433.0</td>\n      <td>1</td>\n      <td>0.19</td>\n      <td>-0.02</td>\n      <td>-0.02</td>\n      <td>-0.0</td>\n      <td>40.78</td>\n      <td>35.41</td>\n      <td>4</td>\n      <td>15</td>\n      <td>0</td>\n    </tr>\n    <tr>\n      <th>2023-12-22 15:55:00</th>\n      <td>2142859</td>\n      <td>0</td>\n      <td>539054.0</td>\n      <td>1603805.0</td>\n      <td>1</td>\n      <td>0.32</td>\n      <td>-0.02</td>\n      <td>-0.02</td>\n      <td>-0.0</td>\n      <td>42.27</td>\n      <td>39.07</td>\n      <td>4</td>\n      <td>15</td>\n      <td>0</td>\n    </tr>\n  </tbody>\n</table>\n<p>4990 rows × 14 columns</p>\n</div>"
     },
     "execution_count": 3,
     "metadata": {},
     "output_type": "execute_result"
    }
   ],
   "source": [
    "training_preprocessor.target_data\n"
   ],
   "metadata": {
    "collapsed": false
   }
  },
  {
   "cell_type": "markdown",
   "source": [],
   "metadata": {
    "collapsed": false
   }
  },
  {
   "cell_type": "markdown",
   "source": [],
   "metadata": {
    "collapsed": false
   }
  },
  {
   "cell_type": "code",
   "execution_count": 4,
   "outputs": [
    {
     "name": "stderr",
     "output_type": "stream",
     "text": [
      ".......\n",
      "----------------------------------------------------------------------\n",
      "Ran 7 tests in 3.947s\n",
      "\n",
      "OK\n"
     ]
    }
   ],
   "source": [
    "%run ../tests/data_preprocessor_validator.py"
   ],
   "metadata": {
    "collapsed": false
   }
  },
  {
   "cell_type": "code",
   "execution_count": 5,
   "outputs": [],
   "source": [
    "from models.stock_trend_lstm_model import StockTrendLSTMModel\n",
    "\n",
    "input_shape = (X_train.shape[1], X_train.shape[2])\n",
    "epochs: int = config[\"data\"][\"epochs\"]\n",
    "batch_size: int = config[\"data\"][\"batch_size\"]\n",
    "my_model = StockTrendLSTMModel(input_shape, X_train, y_train, X_val, y_val, epochs, batch_size)\n",
    "# history = my_model.train()"
   ],
   "metadata": {
    "collapsed": false
   }
  },
  {
   "cell_type": "code",
   "execution_count": 6,
   "outputs": [
    {
     "ename": "NameError",
     "evalue": "name 'history' is not defined",
     "output_type": "error",
     "traceback": [
      "\u001B[1;31m---------------------------------------------------------------------------\u001B[0m",
      "\u001B[1;31mNameError\u001B[0m                                 Traceback (most recent call last)",
      "Cell \u001B[1;32mIn[6], line 2\u001B[0m\n\u001B[0;32m      1\u001B[0m \u001B[38;5;28;01mfrom\u001B[39;00m \u001B[38;5;21;01mutils\u001B[39;00m\u001B[38;5;21;01m.\u001B[39;00m\u001B[38;5;21;01mvisualizing_service\u001B[39;00m \u001B[38;5;28;01mimport\u001B[39;00m plot_model_accuracy\n\u001B[1;32m----> 2\u001B[0m plot_model_accuracy(\u001B[43mhistory\u001B[49m)\n",
      "\u001B[1;31mNameError\u001B[0m: name 'history' is not defined"
     ]
    }
   ],
   "source": [
    "from utils.visualizing_service import plot_model_accuracy\n",
    "plot_model_accuracy(history)"
   ],
   "metadata": {
    "collapsed": false
   }
  },
  {
   "cell_type": "code",
   "execution_count": null,
   "outputs": [],
   "source": [],
   "metadata": {
    "collapsed": false
   }
  }
 ],
 "metadata": {
  "kernelspec": {
   "display_name": "Python 3",
   "language": "python",
   "name": "python3"
  },
  "language_info": {
   "codemirror_mode": {
    "name": "ipython",
    "version": 2
   },
   "file_extension": ".py",
   "mimetype": "text/x-python",
   "name": "python",
   "nbconvert_exporter": "python",
   "pygments_lexer": "ipython2",
   "version": "2.7.6"
  }
 },
 "nbformat": 4,
 "nbformat_minor": 0
}

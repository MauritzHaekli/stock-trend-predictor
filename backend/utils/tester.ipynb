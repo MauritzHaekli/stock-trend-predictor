{
 "cells": [
  {
   "cell_type": "code",
   "execution_count": 3,
   "metadata": {
    "collapsed": true
   },
   "outputs": [
    {
     "name": "stdout",
     "output_type": "stream",
     "text": [
      "(1092, 13)\n"
     ]
    },
    {
     "data": {
      "text/plain": "                 datetime     open     high      low    close     volume  \\\n0     2023-12-19 09:30:00  196.160  196.590  195.980  196.540  1978031.0   \n1     2023-12-19 09:35:00  196.550  196.600  196.000  196.310   771714.0   \n2     2023-12-19 09:40:00  196.312  196.655  196.120  196.460   709778.0   \n3     2023-12-19 09:45:00  196.470  196.500  195.890  196.040   654288.0   \n4     2023-12-19 09:50:00  196.040  196.560  195.920  196.534   621201.0   \n...                   ...      ...      ...      ...      ...        ...   \n1087  2024-01-09 15:35:00  184.760  184.840  184.685  184.735   341323.0   \n1088  2024-01-09 15:40:00  184.740  184.770  184.540  184.640   469536.0   \n1089  2024-01-09 15:45:00  184.640  184.700  184.570  184.595   385005.0   \n1090  2024-01-09 15:50:00  184.600  185.020  184.410  184.970  1138023.0   \n1091  2024-01-09 15:55:00  184.980  185.150  184.960  185.130  3523633.0   \n\n      percent_b      macd  macd_signal  macd_hist        adx         ema  \\\n0           NaN  0.000000     0.000000   0.000000   0.000000         NaN   \n1      0.250000 -0.018348    -0.003670  -0.014678   0.000000         NaN   \n2      0.561187 -0.020548    -0.007045  -0.013502   0.000000         NaN   \n3      0.109733 -0.055541    -0.016744  -0.038797   0.000000         NaN   \n4      0.709372 -0.042918    -0.021979  -0.020939   0.000000         NaN   \n...         ...       ...          ...        ...        ...         ...   \n1087   0.795321  0.078694     0.060948   0.017746   9.409668  184.688483   \n1088   0.603226  0.070987     0.062956   0.008031   9.388315  184.678786   \n1089   0.513759  0.060550     0.062474  -0.001924   9.368487  184.662029   \n1090   1.111610  0.081597     0.066299   0.015298  10.247244  184.723623   \n1091   1.176131  0.109921     0.075024   0.034898  11.677921  184.804899   \n\n            rsi  \n0           NaN  \n1           NaN  \n2           NaN  \n3           NaN  \n4           NaN  \n...         ...  \n1087  56.515630  \n1088  52.325912  \n1089  50.419197  \n1090  62.637445  \n1091  66.437761  \n\n[1092 rows x 13 columns]",
      "text/html": "<div>\n<style scoped>\n    .dataframe tbody tr th:only-of-type {\n        vertical-align: middle;\n    }\n\n    .dataframe tbody tr th {\n        vertical-align: top;\n    }\n\n    .dataframe thead th {\n        text-align: right;\n    }\n</style>\n<table border=\"1\" class=\"dataframe\">\n  <thead>\n    <tr style=\"text-align: right;\">\n      <th></th>\n      <th>datetime</th>\n      <th>open</th>\n      <th>high</th>\n      <th>low</th>\n      <th>close</th>\n      <th>volume</th>\n      <th>percent_b</th>\n      <th>macd</th>\n      <th>macd_signal</th>\n      <th>macd_hist</th>\n      <th>adx</th>\n      <th>ema</th>\n      <th>rsi</th>\n    </tr>\n  </thead>\n  <tbody>\n    <tr>\n      <th>0</th>\n      <td>2023-12-19 09:30:00</td>\n      <td>196.160</td>\n      <td>196.590</td>\n      <td>195.980</td>\n      <td>196.540</td>\n      <td>1978031.0</td>\n      <td>NaN</td>\n      <td>0.000000</td>\n      <td>0.000000</td>\n      <td>0.000000</td>\n      <td>0.000000</td>\n      <td>NaN</td>\n      <td>NaN</td>\n    </tr>\n    <tr>\n      <th>1</th>\n      <td>2023-12-19 09:35:00</td>\n      <td>196.550</td>\n      <td>196.600</td>\n      <td>196.000</td>\n      <td>196.310</td>\n      <td>771714.0</td>\n      <td>0.250000</td>\n      <td>-0.018348</td>\n      <td>-0.003670</td>\n      <td>-0.014678</td>\n      <td>0.000000</td>\n      <td>NaN</td>\n      <td>NaN</td>\n    </tr>\n    <tr>\n      <th>2</th>\n      <td>2023-12-19 09:40:00</td>\n      <td>196.312</td>\n      <td>196.655</td>\n      <td>196.120</td>\n      <td>196.460</td>\n      <td>709778.0</td>\n      <td>0.561187</td>\n      <td>-0.020548</td>\n      <td>-0.007045</td>\n      <td>-0.013502</td>\n      <td>0.000000</td>\n      <td>NaN</td>\n      <td>NaN</td>\n    </tr>\n    <tr>\n      <th>3</th>\n      <td>2023-12-19 09:45:00</td>\n      <td>196.470</td>\n      <td>196.500</td>\n      <td>195.890</td>\n      <td>196.040</td>\n      <td>654288.0</td>\n      <td>0.109733</td>\n      <td>-0.055541</td>\n      <td>-0.016744</td>\n      <td>-0.038797</td>\n      <td>0.000000</td>\n      <td>NaN</td>\n      <td>NaN</td>\n    </tr>\n    <tr>\n      <th>4</th>\n      <td>2023-12-19 09:50:00</td>\n      <td>196.040</td>\n      <td>196.560</td>\n      <td>195.920</td>\n      <td>196.534</td>\n      <td>621201.0</td>\n      <td>0.709372</td>\n      <td>-0.042918</td>\n      <td>-0.021979</td>\n      <td>-0.020939</td>\n      <td>0.000000</td>\n      <td>NaN</td>\n      <td>NaN</td>\n    </tr>\n    <tr>\n      <th>...</th>\n      <td>...</td>\n      <td>...</td>\n      <td>...</td>\n      <td>...</td>\n      <td>...</td>\n      <td>...</td>\n      <td>...</td>\n      <td>...</td>\n      <td>...</td>\n      <td>...</td>\n      <td>...</td>\n      <td>...</td>\n      <td>...</td>\n    </tr>\n    <tr>\n      <th>1087</th>\n      <td>2024-01-09 15:35:00</td>\n      <td>184.760</td>\n      <td>184.840</td>\n      <td>184.685</td>\n      <td>184.735</td>\n      <td>341323.0</td>\n      <td>0.795321</td>\n      <td>0.078694</td>\n      <td>0.060948</td>\n      <td>0.017746</td>\n      <td>9.409668</td>\n      <td>184.688483</td>\n      <td>56.515630</td>\n    </tr>\n    <tr>\n      <th>1088</th>\n      <td>2024-01-09 15:40:00</td>\n      <td>184.740</td>\n      <td>184.770</td>\n      <td>184.540</td>\n      <td>184.640</td>\n      <td>469536.0</td>\n      <td>0.603226</td>\n      <td>0.070987</td>\n      <td>0.062956</td>\n      <td>0.008031</td>\n      <td>9.388315</td>\n      <td>184.678786</td>\n      <td>52.325912</td>\n    </tr>\n    <tr>\n      <th>1089</th>\n      <td>2024-01-09 15:45:00</td>\n      <td>184.640</td>\n      <td>184.700</td>\n      <td>184.570</td>\n      <td>184.595</td>\n      <td>385005.0</td>\n      <td>0.513759</td>\n      <td>0.060550</td>\n      <td>0.062474</td>\n      <td>-0.001924</td>\n      <td>9.368487</td>\n      <td>184.662029</td>\n      <td>50.419197</td>\n    </tr>\n    <tr>\n      <th>1090</th>\n      <td>2024-01-09 15:50:00</td>\n      <td>184.600</td>\n      <td>185.020</td>\n      <td>184.410</td>\n      <td>184.970</td>\n      <td>1138023.0</td>\n      <td>1.111610</td>\n      <td>0.081597</td>\n      <td>0.066299</td>\n      <td>0.015298</td>\n      <td>10.247244</td>\n      <td>184.723623</td>\n      <td>62.637445</td>\n    </tr>\n    <tr>\n      <th>1091</th>\n      <td>2024-01-09 15:55:00</td>\n      <td>184.980</td>\n      <td>185.150</td>\n      <td>184.960</td>\n      <td>185.130</td>\n      <td>3523633.0</td>\n      <td>1.176131</td>\n      <td>0.109921</td>\n      <td>0.075024</td>\n      <td>0.034898</td>\n      <td>11.677921</td>\n      <td>184.804899</td>\n      <td>66.437761</td>\n    </tr>\n  </tbody>\n</table>\n<p>1092 rows × 13 columns</p>\n</div>"
     },
     "execution_count": 3,
     "metadata": {},
     "output_type": "execute_result"
    }
   ],
   "source": [
    "import requests\n",
    "import pandas as pd\n",
    "import yaml\n",
    "from ta.momentum import RSIIndicator\n",
    "from ta.volatility import BollingerBands\n",
    "from ta.trend import ADXIndicator, EMAIndicator, MACD\n",
    "\n",
    "\n",
    "def get_real_time_stock(api_key: str, interval: str, stock_symbol: str) -> pd.DataFrame:\n",
    "    response_values: str = f\"Time Series ({interval})\"\n",
    "    alpha_vantage_url: str = f\"https://www.alphavantage.co/query?function=TIME_SERIES_INTRADAY&symbol={stock_symbol}&interval={interval}&outputsize=full&extended_hours=false&apikey={api_key}\"\n",
    "    response = requests.get(alpha_vantage_url)\n",
    "    real_time_stock_data = response.json().get(response_values)\n",
    "    real_time_stock_dataframe: pd.DataFrame = pd.DataFrame(real_time_stock_data).transpose().sort_index().astype(float)\n",
    "\n",
    "    new_column_names: dict = {\n",
    "        \"1. open\": \"open\",\n",
    "        \"2. high\": \"high\",\n",
    "        \"3. low\": \"low\",\n",
    "        \"4. close\": \"close\",\n",
    "        \"5. volume\": \"volume\",\n",
    "        \"index\": \"datetime\"\n",
    "\n",
    "    }\n",
    "    real_time_stock_dataframe = real_time_stock_dataframe.reset_index()\n",
    "    real_time_stock_dataframe.rename(columns=new_column_names, inplace=True)\n",
    "\n",
    "    bollinger_period: int = 20\n",
    "    bollinger_std: int = 2\n",
    "    macd_short_period: int = 12\n",
    "    macd_long_period: int = 26\n",
    "    macd_signal_period: int = 9\n",
    "    adx_period: int = 14\n",
    "    ema_period: int = 9\n",
    "    rsi_period: int = 14\n",
    "\n",
    "    bb = BollingerBands(close=real_time_stock_dataframe['close'], window=bollinger_period, window_dev=bollinger_std, fillna=True)\n",
    "    macd = MACD(close=real_time_stock_dataframe['close'], window_fast=macd_short_period, window_slow=macd_long_period, window_sign=macd_signal_period, fillna=True)\n",
    "    adx = ADXIndicator(high=real_time_stock_dataframe['high'], low=real_time_stock_dataframe['low'], close=real_time_stock_dataframe['close'], window=adx_period, fillna=True)\n",
    "    ema = EMAIndicator(close=real_time_stock_dataframe['close'], window=ema_period)\n",
    "    rsi = RSIIndicator(real_time_stock_dataframe['close'], window=rsi_period)\n",
    "\n",
    "    real_time_stock_dataframe['percent_b'] = (real_time_stock_dataframe['close'] - bb.bollinger_lband()) / (bb.bollinger_hband() - bb.bollinger_lband())\n",
    "    real_time_stock_dataframe['macd'] = macd.macd()\n",
    "    real_time_stock_dataframe['macd_signal'] = macd.macd_signal()\n",
    "    real_time_stock_dataframe['macd_hist'] = macd.macd_diff()\n",
    "    real_time_stock_dataframe['adx'] = adx.adx()\n",
    "    real_time_stock_dataframe['ema'] = ema.ema_indicator()\n",
    "    real_time_stock_dataframe['rsi'] = rsi.rsi()\n",
    "    print(real_time_stock_dataframe.shape)\n",
    "    if response.status_code != 200:\n",
    "        print(f\"Error: {response.status_code} - {response.text}\")\n",
    "    else:\n",
    "        return real_time_stock_dataframe\n",
    "\n",
    "\n",
    "with open('../config.yaml', 'r') as config_file:\n",
    "    config = yaml.safe_load(config_file)\n",
    "alpha_api_key: str = config['alpha_vantage']['api_key']\n",
    "alpha_stock_symbol: str = \"AAPL\"\n",
    "alpha_interval: str = \"5min\"\n",
    "test = get_real_time_stock(alpha_api_key, alpha_interval, alpha_stock_symbol)\n",
    "test"
   ]
  }
 ],
 "metadata": {
  "kernelspec": {
   "display_name": "Python 3",
   "language": "python",
   "name": "python3"
  },
  "language_info": {
   "codemirror_mode": {
    "name": "ipython",
    "version": 2
   },
   "file_extension": ".py",
   "mimetype": "text/x-python",
   "name": "python",
   "nbconvert_exporter": "python",
   "pygments_lexer": "ipython2",
   "version": "2.7.6"
  }
 },
 "nbformat": 4,
 "nbformat_minor": 0
}

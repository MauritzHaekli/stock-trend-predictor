{
 "cells": [
  {
   "cell_type": "code",
   "execution_count": 46,
   "metadata": {
    "collapsed": true
   },
   "outputs": [],
   "source": [
    "import requests\n",
    "import json\n",
    "import pandas as pd\n",
    "\n",
    "def get_api_key() -> str:\n",
    "    json_file_path: str = './key.json'\n",
    "\n",
    "    with open(json_file_path, 'r') as json_file:\n",
    "        json_data: json = json.load(json_file)\n",
    "        api_key_property: str = \"api_key\"\n",
    "        json_api_key: str = json_data.get(api_key_property)\n",
    "    return json_api_key\n",
    "\n",
    "api_key: str = get_api_key()\n",
    "interval: str = \"1min\"\n",
    "order: str = \"ASC\"\n",
    "symbol: str = \"TSLA\"\n",
    "output: float = 5000\n",
    "\n",
    "empty_signal: str = \"\"\n",
    "buy_signal: str = \"Buy\"\n",
    "wait_signal: str = \"Wait\"\n",
    "sell_signal: str = \"Sell\"\n",
    "\n",
    "open_column_name: str = \"open\"\n",
    "close_column_name: str = \"close\"\n",
    "bollinger_column_name: str = \"percent_b\"\n",
    "signal_column_name: str = \"Signal\"\n",
    "profit_absolute_column_name: str = \"Profit\"\n",
    "profit_relative_column_name: str = \"Profit (%)\"\n",
    "\n",
    "positive_trades_key: str = \"Pos. trades\"\n",
    "negative_trades_key: str = \"Neg. trades\"\n",
    "total_trades_key: str = \"Total trades\"\n",
    "absolute_profits_key: str = \"Total profits\"\n",
    "relative_profits_key: str = \"Total profits (%)\"\n",
    "\n"
   ]
  },
  {
   "cell_type": "code",
   "execution_count": 47,
   "outputs": [],
   "source": [
    "time_series_url: str = f\"https://api.twelvedata.com/time_series?symbol={symbol}&interval={interval}&order={order}&outputsize={output}&apikey={api_key}\"\n",
    "dataframe_key: str = \"datetime\"\n",
    "response_values: str = \"values\"\n",
    "\n",
    "def get_api_values(url: str) -> pd.DataFrame:\n",
    "    response = requests.get(url)\n",
    "    values: json = response.json().get(response_values, [])\n",
    "    dataframe: pd.DataFrame = pd.DataFrame(values)\n",
    "    dataframe[dataframe_key] = pd.to_datetime(dataframe[dataframe_key])\n",
    "\n",
    "    if response.status_code != 200:\n",
    "        print(f\"Error: {response.status_code} - {response.text}\")\n",
    "    else:\n",
    "        return dataframe\n",
    "\n",
    "time_series= get_api_values(time_series_url)\n",
    "#time_series_data"
   ],
   "metadata": {
    "collapsed": false
   }
  },
  {
   "cell_type": "code",
   "execution_count": 48,
   "outputs": [],
   "source": [
    "bollinger_bands_url: str = f\"https://api.twelvedata.com/percent_b?symbol={symbol}&interval={interval}&outputsize={output}&order={order}&apikey={api_key}\"\n",
    "\n",
    "bollinger_bands: pd.DataFrame = get_api_values(bollinger_bands_url)\n",
    "# bollinger_bands\n"
   ],
   "metadata": {
    "collapsed": false
   }
  },
  {
   "cell_type": "code",
   "execution_count": 49,
   "outputs": [],
   "source": [
    "def get_merged_dataframes(first_dataframe: pd.DataFrame, second_dataframe: pd.DataFrame, merge_key: str) -> pd.DataFrame:\n",
    "    last_datetime_first_dataframe = first_dataframe.at[0, dataframe_key]\n",
    "    last_datetime_second_dataframe = first_dataframe.at[0, dataframe_key]\n",
    "    merge_conflict_error_message: str = \"datetime merging conflict\"\n",
    "    if  last_datetime_first_dataframe == last_datetime_second_dataframe:\n",
    "        return pd.merge(first_dataframe, second_dataframe, left_on=merge_key, right_on=merge_key)\n",
    "    else:\n",
    "        print(merge_conflict_error_message)\n",
    "indicators: pd.DataFrame = get_merged_dataframes(time_series, bollinger_bands, dataframe_key)\n",
    "# indicators"
   ],
   "metadata": {
    "collapsed": false
   }
  },
  {
   "cell_type": "code",
   "execution_count": 50,
   "outputs": [],
   "source": [
    "def is_bollinger_entry_satisfied(current_bollinger_value: float, last_bollinger_value: float) -> bool:\n",
    "    current_bollinger_value_negative: bool = current_bollinger_value < 0\n",
    "    last_bollinger_value_positive: bool = last_bollinger_value >= 0\n",
    "    return current_bollinger_value_negative and last_bollinger_value_positive\n",
    "\n",
    "def is_bollinger_exit_satisfied(current_bollinger_value: float, last_bollinger_value: float) -> bool:\n",
    "    current_bollinger_value_smaller_one: bool = current_bollinger_value < 1\n",
    "    last_bollinger_value_greater_one: bool = last_bollinger_value >= 1\n",
    "    return current_bollinger_value_smaller_one and last_bollinger_value_greater_one\n",
    "\n",
    "def get_dataframe_row_value(dataframe_row: pd.DataFrame, column_name: str) -> float:\n",
    "    return float(dataframe_row[column_name])\n",
    "\n",
    "def get_trading_signal(dataframe_row: pd.DataFrame) -> str:\n",
    "    return dataframe_row[signal_column_name]\n",
    "\n",
    "def get_absolute_price_change(buying_price: float, latest_price: float)  -> float:\n",
    "    return round(latest_price - buying_price, 4)\n",
    "\n",
    "def get_relative_price_change(buying_price: float, latest_price: float)  -> float:\n",
    "    return round((latest_price - buying_price)/buying_price * 100, 4)\n",
    "\n",
    "\n",
    "def get_trading_strategy(indicator_dataframe: pd.DataFrame) -> pd.DataFrame:\n",
    "    added_signal_dataframe: pd.DataFrame = indicator_dataframe\n",
    "    added_column_name: str = signal_column_name\n",
    "\n",
    "    added_signal_dataframe.at[0, added_column_name] = empty_signal\n",
    "    added_signal_dataframe.at[0, profit_absolute_column_name] = \"\"\n",
    "    added_signal_dataframe.at[0, profit_relative_column_name] = \"\"\n",
    "\n",
    "    buying_price: float = 0.00\n",
    "\n",
    "\n",
    "    for entry in range(1, len(added_signal_dataframe)):\n",
    "        current_dataframe_row: pd.DataFrame = indicator_dataframe.loc[entry]\n",
    "        last_dataframe_row: pd.DataFrame = indicator_dataframe.loc[entry -1]\n",
    "        current_bollinger_value: float = get_dataframe_row_value(current_dataframe_row, bollinger_column_name)\n",
    "        last_bollinger_value: float = get_dataframe_row_value(last_dataframe_row, bollinger_column_name)\n",
    "        bollinger_entry_satisfied: bool = is_bollinger_entry_satisfied(current_bollinger_value, last_bollinger_value)\n",
    "        bollinger_exit_satisfied: bool = is_bollinger_exit_satisfied(current_bollinger_value, last_bollinger_value)\n",
    "        last_signal: str = get_trading_signal(last_dataframe_row)\n",
    "        is_last_empty_signal: bool = last_signal == empty_signal\n",
    "        is_last_buy_signal: bool = last_signal == buy_signal\n",
    "        is_last_wait_signal: bool = last_signal == wait_signal\n",
    "\n",
    "        if bollinger_entry_satisfied and is_last_empty_signal:\n",
    "            buying_price = get_dataframe_row_value(current_dataframe_row, close_column_name)\n",
    "            added_signal_dataframe.at[entry, added_column_name] = buy_signal\n",
    "            added_signal_dataframe.at[entry, profit_absolute_column_name] = 0.00\n",
    "            added_signal_dataframe.at[entry, profit_relative_column_name] = 0.00\n",
    "\n",
    "        elif (is_last_buy_signal or is_last_wait_signal) and not bollinger_exit_satisfied:\n",
    "            closing_price: float = get_dataframe_row_value(current_dataframe_row, close_column_name)\n",
    "            added_signal_dataframe.at[entry, added_column_name] = wait_signal\n",
    "            added_signal_dataframe.at[entry, profit_absolute_column_name] = get_absolute_price_change(buying_price, closing_price)\n",
    "            added_signal_dataframe.at[entry, profit_relative_column_name] = get_relative_price_change(buying_price, closing_price)\n",
    "\n",
    "        elif bollinger_exit_satisfied and (is_last_wait_signal or is_last_buy_signal):\n",
    "            closing_price: float = get_dataframe_row_value(current_dataframe_row, close_column_name)\n",
    "            added_signal_dataframe.at[entry, added_column_name] = sell_signal\n",
    "            added_signal_dataframe.at[entry, profit_absolute_column_name] = get_absolute_price_change(buying_price, closing_price)\n",
    "            added_signal_dataframe.at[entry, profit_relative_column_name] = get_relative_price_change(buying_price, closing_price)\n",
    "            buying_price = 0.00\n",
    "\n",
    "        else:\n",
    "            added_signal_dataframe.at[entry, added_column_name] = empty_signal\n",
    "            added_signal_dataframe.at[entry, profit_absolute_column_name] = ''\n",
    "            added_signal_dataframe.at[entry, profit_relative_column_name] = ''\n",
    "\n",
    "\n",
    "\n",
    "    return added_signal_dataframe\n",
    "\n",
    "trading_strategy: pd.DataFrame = get_trading_strategy(indicators)\n",
    "# trading_strategy"
   ],
   "metadata": {
    "collapsed": false
   }
  },
  {
   "cell_type": "code",
   "execution_count": 51,
   "outputs": [
    {
     "data": {
      "text/plain": "   Pos. trades  Neg. trades  Total trades  Total profits  Total profits (%)\n0           30           23            53         7.1499             3.2516",
      "text/html": "<div>\n<style scoped>\n    .dataframe tbody tr th:only-of-type {\n        vertical-align: middle;\n    }\n\n    .dataframe tbody tr th {\n        vertical-align: top;\n    }\n\n    .dataframe thead th {\n        text-align: right;\n    }\n</style>\n<table border=\"1\" class=\"dataframe\">\n  <thead>\n    <tr style=\"text-align: right;\">\n      <th></th>\n      <th>Pos. trades</th>\n      <th>Neg. trades</th>\n      <th>Total trades</th>\n      <th>Total profits</th>\n      <th>Total profits (%)</th>\n    </tr>\n  </thead>\n  <tbody>\n    <tr>\n      <th>0</th>\n      <td>30</td>\n      <td>23</td>\n      <td>53</td>\n      <td>7.1499</td>\n      <td>3.2516</td>\n    </tr>\n  </tbody>\n</table>\n</div>"
     },
     "execution_count": 51,
     "metadata": {},
     "output_type": "execute_result"
    }
   ],
   "source": [
    "def get_trading_performance(signal_dataframe: pd.DataFrame) -> pd.DataFrame:\n",
    "    statistics: dict = {\n",
    "        positive_trades_key: 0,\n",
    "        negative_trades_key: 0,\n",
    "        total_trades_key: 0,\n",
    "        absolute_profits_key: 0.00,\n",
    "        relative_profits_key: 0.00\n",
    "    }\n",
    "\n",
    "    dataframe_columns = signal_dataframe.columns.tolist()\n",
    "\n",
    "    buy_signals_list: list = []\n",
    "    sell_signals_list: list= []\n",
    "\n",
    "    for entry in range(len(signal_dataframe)):\n",
    "        current_dataframe_row: pd.DataFrame = signal_dataframe.loc[entry]\n",
    "        current_signal: str = get_trading_signal(current_dataframe_row)\n",
    "        trade_started: bool = current_signal == buy_signal\n",
    "        trade_ended: bool = current_signal == sell_signal\n",
    "        if trade_started:\n",
    "            buy_signals_list.append(current_dataframe_row)\n",
    "        elif trade_ended:\n",
    "            sell_signals_list.append(current_dataframe_row)\n",
    "\n",
    "    sell_signals: pd.DataFrame = pd.DataFrame(sell_signals_list, columns=dataframe_columns, index=range(len(sell_signals_list)))\n",
    "\n",
    "    for signal in range(len(sell_signals)):\n",
    "        statistics[total_trades_key] +=1\n",
    "        statistics[absolute_profits_key] += sell_signals.loc[signal, profit_absolute_column_name]\n",
    "        statistics[relative_profits_key] += sell_signals.loc[signal, profit_relative_column_name]\n",
    "        if sell_signals.loc[signal, profit_absolute_column_name] > 0.00:\n",
    "            statistics[positive_trades_key] +=1\n",
    "        else:\n",
    "            statistics[negative_trades_key] +=1\n",
    "\n",
    "    statistics: pd.DataFrame = pd.DataFrame(statistics, index=[0])\n",
    "    return statistics\n",
    "\n",
    "trading_performance: pd.DataFrame = get_trading_performance(trading_strategy)\n",
    "trading_performance\n"
   ],
   "metadata": {
    "collapsed": false
   }
  },
  {
   "cell_type": "code",
   "execution_count": 52,
   "outputs": [
    {
     "name": "stdout",
     "output_type": "stream",
     "text": [
      "30.0\n"
     ]
    }
   ],
   "source": [
    "def get_trading_statistics(trading_performance: pd.DataFrame) -> pd.DataFrame:\n",
    "    positive_trades: float = get_dataframe_row_value(trading_performance.iloc[0], positive_trades_key)\n",
    "    print(positive_trades)\n",
    "get_trading_statistics(trading_performance)"
   ],
   "metadata": {
    "collapsed": false
   }
  },
  {
   "cell_type": "code",
   "execution_count": 52,
   "outputs": [],
   "source": [],
   "metadata": {
    "collapsed": false
   }
  }
 ],
 "metadata": {
  "kernelspec": {
   "display_name": "Python 3",
   "language": "python",
   "name": "python3"
  },
  "language_info": {
   "codemirror_mode": {
    "name": "ipython",
    "version": 2
   },
   "file_extension": ".py",
   "mimetype": "text/x-python",
   "name": "python",
   "nbconvert_exporter": "python",
   "pygments_lexer": "ipython2",
   "version": "2.7.6"
  }
 },
 "nbformat": 4,
 "nbformat_minor": 0
}
